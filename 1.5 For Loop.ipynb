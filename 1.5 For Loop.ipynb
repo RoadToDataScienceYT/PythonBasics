{
 "cells": [
  {
   "cell_type": "markdown",
   "metadata": {},
   "source": [
    "# Python Basics"
   ]
  },
  {
   "cell_type": "markdown",
   "metadata": {},
   "source": [
    "### E1.5: For Loop"
   ]
  },
  {
   "cell_type": "code",
   "execution_count": 9,
   "metadata": {},
   "outputs": [
    {
     "name": "stdout",
     "output_type": "stream",
     "text": [
      "Hello 0\n",
      "Hello 1\n",
      "Hello 2\n",
      "Hello 3\n",
      "Hello 4\n",
      "Hello 5\n",
      "Hello 6\n",
      "Hello 7\n",
      "Hello 8\n",
      "Hello 9\n"
     ]
    }
   ],
   "source": [
    "for var in range(10):   #(start, end, steps)\n",
    "    print(\"Hello\", var)\n",
    "    "
   ]
  },
  {
   "cell_type": "code",
   "execution_count": 10,
   "metadata": {},
   "outputs": [
    {
     "name": "stdout",
     "output_type": "stream",
     "text": [
      "Even 0\n",
      "Odd 1\n",
      "Even 2\n",
      "Odd 3\n",
      "Even 4\n",
      "Odd 5\n",
      "Even 6\n",
      "Odd 7\n",
      "Even 8\n",
      "Odd 9\n"
     ]
    }
   ],
   "source": [
    "for var in range(10):\n",
    "    if var % 2 == 0:\n",
    "        print(\"Even\", var)\n",
    "    else:\n",
    "        print(\"Odd\", var)\n",
    " \n"
   ]
  },
  {
   "cell_type": "code",
   "execution_count": 11,
   "metadata": {},
   "outputs": [
    {
     "data": {
      "text/plain": [
       "1"
      ]
     },
     "execution_count": 11,
     "metadata": {},
     "output_type": "execute_result"
    }
   ],
   "source": [
    "3 // 2"
   ]
  },
  {
   "cell_type": "code",
   "execution_count": 12,
   "metadata": {},
   "outputs": [
    {
     "data": {
      "text/plain": [
       "1"
      ]
     },
     "execution_count": 12,
     "metadata": {},
     "output_type": "execute_result"
    }
   ],
   "source": [
    "3 % 2"
   ]
  },
  {
   "cell_type": "code",
   "execution_count": 13,
   "metadata": {},
   "outputs": [
    {
     "name": "stdout",
     "output_type": "stream",
     "text": [
      "Enter 1st number: 1\n",
      "Enter 2nd number: 2\n",
      "Sum:  3\n",
      "Enter 1st number: 3\n",
      "Enter 2nd number: 4\n",
      "Sum:  7\n",
      "Enter 1st number: 5\n",
      "Enter 2nd number: 6\n",
      "Sum:  11\n",
      "Enter 1st number: 7\n",
      "Enter 2nd number: 8\n",
      "Sum:  15\n",
      "Enter 1st number: 1\n",
      "Enter 2nd number: 2\n",
      "Sum:  3\n"
     ]
    }
   ],
   "source": [
    "def add():\n",
    "    num1 = int(input('Enter 1st number: '))\n",
    "    num2 = int(input('Enter 2nd number: '))\n",
    "    print(\"Sum: \",num1 + num2)\n",
    "\n",
    "    \n",
    "add()\n",
    "add()\n",
    "add()\n",
    "\n",
    "    \n",
    "    \n",
    "for i in range(100):\n",
    "    add()"
   ]
  },
  {
   "cell_type": "code",
   "execution_count": null,
   "metadata": {},
   "outputs": [],
   "source": []
  }
 ],
 "metadata": {
  "kernelspec": {
   "display_name": "Python 3",
   "language": "python",
   "name": "python3"
  },
  "language_info": {
   "codemirror_mode": {
    "name": "ipython",
    "version": 3
   },
   "file_extension": ".py",
   "mimetype": "text/x-python",
   "name": "python",
   "nbconvert_exporter": "python",
   "pygments_lexer": "ipython3",
   "version": "3.8.5"
  }
 },
 "nbformat": 4,
 "nbformat_minor": 4
}
