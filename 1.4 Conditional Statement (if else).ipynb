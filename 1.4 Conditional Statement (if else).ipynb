{
 "cells": [
  {
   "cell_type": "markdown",
   "metadata": {},
   "source": [
    "# Python Basics"
   ]
  },
  {
   "cell_type": "markdown",
   "metadata": {},
   "source": [
    "### E1.4: Conditional Statement (if - else)"
   ]
  },
  {
   "cell_type": "code",
   "execution_count": 9,
   "metadata": {},
   "outputs": [
    {
     "name": "stdout",
     "output_type": "stream",
     "text": [
      "Enter a number: 12\n",
      "Enter another number: 12\n",
      "Enter operator: +\n",
      "Sum: 24\n"
     ]
    }
   ],
   "source": [
    "def calculator(num1, num2, op):\n",
    "    if op == '+':\n",
    "        print(\"Sum:\",num1 + num2)\n",
    "    elif op == '-':\n",
    "        print(\"difference:\", num1 - num2)\n",
    "    elif op == \"*\":\n",
    "        print(\"prodeuct:\", num1 * num2)\n",
    "    elif op == '/':\n",
    "        print('Division:', num1 / num2)\n",
    "    elif op == '%':\n",
    "        print('Remainder: ', num1 % num2)\n",
    "    else:\n",
    "        print(\"Invalid Operator\")\n",
    "\n",
    "\n",
    "num1 = int(input(\"Enter a number: \"))\n",
    "num2 = int(input(\"Enter another number: \"))\n",
    "op = input('Enter operator: ')\n",
    "calculator(num1,num2,op)"
   ]
  },
  {
   "cell_type": "code",
   "execution_count": 10,
   "metadata": {},
   "outputs": [
    {
     "name": "stdout",
     "output_type": "stream",
     "text": [
      "Enter a number: 12\n",
      "Enter another number: 12\n",
      "Enter operator: *\n",
      "prodeuct: 144\n"
     ]
    }
   ],
   "source": [
    "num1 = int(input(\"Enter a number: \"))\n",
    "num2 = int(input(\"Enter another number: \"))\n",
    "op = input('Enter operator: ')\n",
    "calculator(num1,num2,op)"
   ]
  },
  {
   "cell_type": "code",
   "execution_count": 11,
   "metadata": {},
   "outputs": [
    {
     "name": "stdout",
     "output_type": "stream",
     "text": [
      "Enter a number: 12\n",
      "Enter another number: 12\n",
      "Enter operator: a\n",
      "Invalid Operator\n"
     ]
    }
   ],
   "source": [
    "num1 = int(input(\"Enter a number: \"))\n",
    "num2 = int(input(\"Enter another number: \"))\n",
    "op = input('Enter operator: ')\n",
    "calculator(num1,num2,op)"
   ]
  },
  {
   "cell_type": "code",
   "execution_count": null,
   "metadata": {},
   "outputs": [],
   "source": []
  },
  {
   "cell_type": "code",
   "execution_count": null,
   "metadata": {},
   "outputs": [],
   "source": []
  }
 ],
 "metadata": {
  "kernelspec": {
   "display_name": "Python 3",
   "language": "python",
   "name": "python3"
  },
  "language_info": {
   "codemirror_mode": {
    "name": "ipython",
    "version": 3
   },
   "file_extension": ".py",
   "mimetype": "text/x-python",
   "name": "python",
   "nbconvert_exporter": "python",
   "pygments_lexer": "ipython3",
   "version": "3.8.5"
  }
 },
 "nbformat": 4,
 "nbformat_minor": 4
}
